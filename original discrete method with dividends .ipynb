{
 "cells": [
  {
   "cell_type": "code",
   "execution_count": 8,
   "id": "f1caf17b",
   "metadata": {},
   "outputs": [],
   "source": [
    "import QuantLib as ql\n",
    " \n",
    "import datetime \n",
    "from datetime import datetime\n",
    "\n",
    "risk= [[[8, 11, 2022], [16, 12, 2022], 50, 51, 0.294, 0.02, [[[8, 11, 2022], 0]], True, True]]\n",
    "\n",
    "def get_option_price(\n",
    "    valuation_date = [8, 11, 2022],\n",
    "    expiry_date = [16, 12, 2022],\n",
    "    underlying_price = 50,\n",
    "    strike_price = 51,\n",
    "    volatility =  0.294,\n",
    "    risk_free_rate = 0.02,\n",
    "    dividends = [[[8, 11, 2022], 0]],\n",
    "    is_american = True,\n",
    "    is_call = True\n",
    "    ):\n",
    "    \n",
    "    div_dates = []\n",
    "    div_values = []\n",
    "    if (dividends==0):\n",
    "        dividend=0\n",
    "    else:\n",
    "        for div in dividends:\n",
    "            date = div[0]\n",
    "            value = div[1]\n",
    "            div_values.append(value)\n",
    "            div_dates.append(ql.Date(*date))\n",
    "          \n",
    "    \n",
    "    # Reformat dates from list into QL date format\n",
    "    valuation_date = ql.Date(*valuation_date)\n",
    "    expiry_date = ql.Date(*expiry_date)\n",
    "    ql.Settings.instance().setEvaluationDate(valuation_date)\n",
    "    day_count = ql.Actual365Fixed()\n",
    "    calendar = ql.UnitedStates()\n",
    "    \n",
    "    # Reformat prices and rates from list into QL format\n",
    "    underlying_price = ql.QuoteHandle(ql.SimpleQuote(underlying_price))\n",
    "    risk_free_rate = ql.YieldTermStructureHandle(ql.FlatForward(valuation_date, risk_free_rate, day_count))\n",
    "    volatility = ql.BlackVolTermStructureHandle(ql.BlackConstantVol(valuation_date, calendar, volatility, day_count))\n",
    "    \n",
    "    # Create option\n",
    "    if is_call:\n",
    "        payoff = ql.PlainVanillaPayoff(ql.Option.Call, strike_price)\n",
    "    else:\n",
    "        payoff = ql.PlainVanillaPayoff(ql.Option.Put, strike_price)\n",
    "    if is_american:\n",
    "        exercise = ql.AmericanExercise(valuation_date, expiry_date)\n",
    "    else:\n",
    "        exercise = ql.EuropeanExercise(expiry_date)\n",
    "    option = ql.DividendVanillaOption(payoff, exercise, div_dates,\n",
    "                                          div_values)\n",
    "    \n",
    "    # Black Scholes process\n",
    "    process = ql.BlackScholesProcess(underlying_price,\n",
    "                                          risk_free_rate,\n",
    "                                          volatility)\n",
    "    \n",
    "    # Create option's pricing engine\n",
    "    precision_steps = 1000\n",
    "    engine = ql.FdBlackScholesVanillaEngine(process, precision_steps, precision_steps - 1)\n",
    "    option.setPricingEngine(engine)\n",
    "    print(option.NPV())\n",
    "    # Price the option\n",
    "    return option.NPV()\n",
    "   "
   ]
  },
  {
   "cell_type": "code",
   "execution_count": 9,
   "id": "7233c821",
   "metadata": {},
   "outputs": [
    {
     "name": "stdout",
     "output_type": "stream",
     "text": [
      "1.4946461002889466\n",
      "Call with dividend 1.4946461002889466\n"
     ]
    }
   ],
   "source": [
    "price = get_option_price(is_call = True )\n",
    "print(\"Call with dividend\",price)"
   ]
  },
  {
   "cell_type": "code",
   "execution_count": 3,
   "id": "0866998d",
   "metadata": {},
   "outputs": [
    {
     "name": "stdout",
     "output_type": "stream",
     "text": [
      "2.5772697119960615\n",
      "Call with dividend 2.5772697119960615\n"
     ]
    }
   ],
   "source": [
    "price = get_option_price( is_call = False )\n",
    "print(\"Call with dividend\",price)"
   ]
  },
  {
   "cell_type": "code",
   "execution_count": 4,
   "id": "15c07fb8",
   "metadata": {},
   "outputs": [
    {
     "name": "stdout",
     "output_type": "stream",
     "text": [
      "2.2638838535022283\n",
      "Call with zero dividend 2.264\n"
     ]
    }
   ],
   "source": [
    "price = \"{0:.3f}\".format(get_option_price(dividends = 0, is_call = True))\n",
    "print(\"Call with zero dividend\",price)"
   ]
  },
  {
   "cell_type": "code",
   "execution_count": 5,
   "id": "2f775f65",
   "metadata": {},
   "outputs": [
    {
     "name": "stdout",
     "output_type": "stream",
     "text": [
      "2.3869080351184957\n",
      "Put with zero dividend 2.387\n"
     ]
    }
   ],
   "source": [
    "price = \"{0:.3f}\".format(get_option_price(dividends = 0, is_call = False))\n",
    "print( \"Put with zero dividend\",price)"
   ]
  },
  {
   "cell_type": "code",
   "execution_count": null,
   "id": "82b8a058",
   "metadata": {},
   "outputs": [],
   "source": [
    "import numpy as np\n",
    "from scipy.stats import norm\n",
    "    # Without dividend\n",
    "    #S: spot price\n",
    "    #K: strike price\n",
    "    #T: time to maturity\n",
    "    #r: interest rate\n",
    "    #sigma: volatility of underlying asset\n",
    "N = norm.cdf\n",
    "\n",
    "def BS_CALL(S, K, T, r, sigma):\n",
    "    d1 = (np.log(S/K) + (r + sigma**2/2)*T) / (sigma*np.sqrt(T))\n",
    "    d2 = d1 - sigma * np.sqrt(T)\n",
    "    return S * N(d1) - K * np.exp(-r*T)* N(d2)\n",
    "\n",
    "def BS_PUT(S, K, T, r, sigma):\n",
    "    d1 = (np.log(S/K) + (r + sigma**2/2)*T) / (sigma*np.sqrt(T))\n",
    "    d2 = d1 - sigma* np.sqrt(T)\n",
    "    return K*np.exp(-r*T)*N(-d2) - S*N(-d1)\n",
    "        "
   ]
  },
  {
   "cell_type": "code",
   "execution_count": null,
   "id": "182c7233",
   "metadata": {},
   "outputs": [],
   "source": [
    "BS_CALL(50, 100, 1, 0.05, 0.25)"
   ]
  },
  {
   "cell_type": "code",
   "execution_count": null,
   "id": "efbfa231",
   "metadata": {},
   "outputs": [],
   "source": [
    "import numpy as np\n",
    "from scipy.stats import norm\n",
    "    # With dividend\n",
    "    #S: spot price\n",
    "    #K: strike price\n",
    "    #T: time to maturity\n",
    "    #r: interest rate\n",
    "    #sigma: volatility of underlying asset\n",
    "N = norm.cdf\n",
    "\n",
    "def BS_CALLDIV(S, K, T, r, q, sigma):\n",
    "    d1 = (np.log(S/K) + (r - q + sigma**2/2)*T) / (sigma*np.sqrt(T))\n",
    "    d2 = d1 - sigma* np.sqrt(T)\n",
    "    return S*np.exp(-q*T) * N(d1) - K * np.exp(-r*T)* N(d2)\n",
    "\n",
    "def BS_PUTDIV(S, K, T, r, q, sigma):\n",
    "    d1 = (np.log(S/K) + (r - q + sigma**2/2)*T) / (sigma*np.sqrt(T))\n",
    "    d2 = d1 - sigma* np.sqrt(T)\n",
    "    return K*np.exp(-r*T)*N(-d2) - S*np.exp(-q*T)*N(-d1)"
   ]
  },
  {
   "cell_type": "code",
   "execution_count": null,
   "id": "e85413a8",
   "metadata": {},
   "outputs": [],
   "source": [
    "BS_PUTDIV(50, 100, 1, 0.05,0.05, 0.25)"
   ]
  }
 ],
 "metadata": {
  "kernelspec": {
   "display_name": "Python 3 (ipykernel)",
   "language": "python",
   "name": "python3"
  },
  "language_info": {
   "codemirror_mode": {
    "name": "ipython",
    "version": 3
   },
   "file_extension": ".py",
   "mimetype": "text/x-python",
   "name": "python",
   "nbconvert_exporter": "python",
   "pygments_lexer": "ipython3",
   "version": "3.9.12"
  }
 },
 "nbformat": 4,
 "nbformat_minor": 5
}
